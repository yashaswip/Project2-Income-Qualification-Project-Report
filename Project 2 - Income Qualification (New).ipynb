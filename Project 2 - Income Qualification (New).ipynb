{
 "cells": [
  {
   "cell_type": "markdown",
   "id": "6e745cc9",
   "metadata": {},
   "source": [
    "#Identify the output variable.\n",
    "In the provided context, the output variable is likely to be the \"poverty_level.\" The goal of the project is to use the Proxy Means Test (PMT) method to predict and classify households based on their poverty level. Therefore, \"poverty_level\" is the variable that the model aims to identify or predict."
   ]
  },
  {
   "cell_type": "code",
   "execution_count": 3,
   "id": "bbdf588b",
   "metadata": {},
   "outputs": [
    {
     "name": "stdout",
     "output_type": "stream",
     "text": [
      "Data Types:\n",
      " Id                  object\n",
      "v2a1               float64\n",
      "hacdor               int64\n",
      "rooms                int64\n",
      "hacapo               int64\n",
      "                    ...   \n",
      "SQBhogar_nin         int64\n",
      "SQBovercrowding    float64\n",
      "SQBdependency      float64\n",
      "SQBmeaned          float64\n",
      "agesq                int64\n",
      "Length: 142, dtype: object\n",
      "Numerical Statistics:\n",
      "                v2a1        hacdor         rooms        hacapo          v14a  \\\n",
      "count  6.453000e+03  23856.000000  23856.000000  23856.000000  23856.000000   \n",
      "mean   1.748726e+05      0.050679      4.955776      0.028421      0.992748   \n",
      "std    1.567887e+05      0.219346      1.539753      0.166174      0.084850   \n",
      "min    0.000000e+00      0.000000      1.000000      0.000000      0.000000   \n",
      "25%    8.000000e+04      0.000000      4.000000      0.000000      1.000000   \n",
      "50%    1.400000e+05      0.000000      5.000000      0.000000      1.000000   \n",
      "75%    2.200000e+05      0.000000      6.000000      0.000000      1.000000   \n",
      "max    2.852700e+06      1.000000     15.000000      1.000000      1.000000   \n",
      "\n",
      "             refrig          v18q        v18q1          r4h1          r4h2  \\\n",
      "count  23856.000000  23856.000000  5730.000000  23856.000000  23856.000000   \n",
      "mean       0.961603      0.240191     1.348517      0.416541      1.563967   \n",
      "std        0.192157      0.427208     0.694216      0.713255      0.990171   \n",
      "min        0.000000      0.000000     1.000000      0.000000      0.000000   \n",
      "25%        1.000000      0.000000     1.000000      0.000000      1.000000   \n",
      "50%        1.000000      0.000000     1.000000      0.000000      1.000000   \n",
      "75%        1.000000      0.000000     1.750000      1.000000      2.000000   \n",
      "max        1.000000      1.000000     6.000000      6.000000      7.000000   \n",
      "\n",
      "       ...           age  SQBescolari        SQBage  SQBhogar_total  \\\n",
      "count  ...  23856.000000  23856.00000  23856.000000    23856.000000   \n",
      "mean   ...     34.454183     74.44974   1657.798080       19.113389   \n",
      "std    ...     21.696245     76.99701   1753.603406       17.314597   \n",
      "min    ...      0.000000      0.00000      0.000000        1.000000   \n",
      "25%    ...     16.000000     16.00000    256.000000        9.000000   \n",
      "50%    ...     32.000000     36.00000   1024.000000       16.000000   \n",
      "75%    ...     51.000000    121.00000   2601.000000       25.000000   \n",
      "max    ...     97.000000    441.00000   9409.000000      169.000000   \n",
      "\n",
      "          SQBedjefe  SQBhogar_nin  SQBovercrowding  SQBdependency  \\\n",
      "count  23856.000000  23856.000000     23856.000000   23856.000000   \n",
      "mean      54.087232      3.885480         3.564751       4.171669   \n",
      "std       77.312255      6.878967         6.668757      13.105989   \n",
      "min        0.000000      0.000000         0.020408       0.000000   \n",
      "25%        0.000000      0.000000         1.000000       0.111111   \n",
      "50%       36.000000      1.000000         2.250000       0.444444   \n",
      "75%       81.000000      4.000000         4.000000       1.777778   \n",
      "max      441.000000    100.000000       169.000000      64.000000   \n",
      "\n",
      "          SQBmeaned         agesq  \n",
      "count  23825.000000  23856.000000  \n",
      "mean     100.509220   1657.798080  \n",
      "std       89.211063   1753.603406  \n",
      "min        0.000000      0.000000  \n",
      "25%       36.000000    256.000000  \n",
      "50%       75.111115   1024.000000  \n",
      "75%      132.250000   2601.000000  \n",
      "max     1296.000000   9409.000000  \n",
      "\n",
      "[8 rows x 137 columns]\n",
      "Categorical Information:\n",
      " {'Id': ID_2f6873615    1\n",
      "ID_df8402e4e    1\n",
      "ID_c19d60342    1\n",
      "ID_6e4601b1a    1\n",
      "ID_cf0990c5e    1\n",
      "               ..\n",
      "ID_ffbae7d39    1\n",
      "ID_173708158    1\n",
      "ID_cf7f6117f    1\n",
      "ID_ca20e2532    1\n",
      "ID_34754556f    1\n",
      "Name: Id, Length: 23856, dtype: int64, 'idhogar': 8e9159699    13\n",
      "830539cad    13\n",
      "9a906088e    13\n",
      "ef31faf0f    12\n",
      "7c6740850    11\n",
      "             ..\n",
      "c2975df37     1\n",
      "25e1fff14     1\n",
      "d6e3f9e9a     1\n",
      "5a667591a     1\n",
      "0df790c33     1\n",
      "Name: idhogar, Length: 7352, dtype: int64, 'dependency': yes          5388\n",
      "no           4289\n",
      ".5           3678\n",
      "2            1769\n",
      "1.5          1758\n",
      ".33333334    1533\n",
      ".66666669    1130\n",
      "8            1037\n",
      ".25           684\n",
      "3             596\n",
      "1.3333334     278\n",
      "2.5           224\n",
      ".2            216\n",
      ".75           203\n",
      "4             195\n",
      ".40000001     175\n",
      ".60000002     128\n",
      "1.6666666     120\n",
      "5              96\n",
      ".16666667      56\n",
      "1.25           54\n",
      ".80000001      45\n",
      ".14285715      32\n",
      "2.3333333      30\n",
      ".83333331      22\n",
      "3.5            18\n",
      "7              16\n",
      "3.3333333      13\n",
      ".85714287      13\n",
      "2.25           13\n",
      ".375           11\n",
      "1.2            11\n",
      ".2857143        9\n",
      ".125            9\n",
      "6               7\n",
      "Name: dependency, dtype: int64, 'edjefe': no     9056\n",
      "6      5113\n",
      "11     1756\n",
      "9      1078\n",
      "8       763\n",
      "3       739\n",
      "15      625\n",
      "14      596\n",
      "7       563\n",
      "17      500\n",
      "16      475\n",
      "5       463\n",
      "2       423\n",
      "12      381\n",
      "4       368\n",
      "yes     293\n",
      "10      284\n",
      "13      238\n",
      "21       68\n",
      "19       30\n",
      "20       24\n",
      "18       20\n",
      "Name: edjefe, dtype: int64, 'edjefa': no     15845\n",
      "6       2454\n",
      "11       951\n",
      "9        498\n",
      "15       468\n",
      "5        447\n",
      "8        410\n",
      "7        382\n",
      "3        381\n",
      "16       280\n",
      "14       264\n",
      "4        263\n",
      "2        263\n",
      "17       235\n",
      "10       228\n",
      "12       155\n",
      "yes      145\n",
      "13       142\n",
      "21        24\n",
      "19        10\n",
      "18         6\n",
      "20         5\n",
      "Name: edjefa, dtype: int64}\n"
     ]
    }
   ],
   "source": [
    "#Understand the type of data.\n",
    "import pandas as pd \n",
    "# Load your dataset (replace 'your_dataset.csv' with the actual file path)\n",
    "df = pd.read_csv('/Users/yashaswipatki/Downloads/Dataset for the project/test.csv')\n",
    "\n",
    "# Display information about the data types of each column\n",
    "data_types = df.dtypes\n",
    "print(\"Data Types:\\n\", data_types)\n",
    "\n",
    "# Display basic statistics for numerical columns\n",
    "numerical_stats = df.describe()\n",
    "print(\"Numerical Statistics:\\n\", numerical_stats)\n",
    "\n",
    "# Display unique values and their counts for categorical columns\n",
    "categorical_info = {}\n",
    "for column in df.select_dtypes(include='object').columns:\n",
    "    categorical_info[column] = df[column].value_counts()\n",
    "\n",
    "print(\"Categorical Information:\\n\", categorical_info)\n"
   ]
  },
  {
   "cell_type": "code",
   "execution_count": 4,
   "id": "87b13aac",
   "metadata": {},
   "outputs": [
    {
     "name": "stdout",
     "output_type": "stream",
     "text": [
      "The target variable 'target_column' does not exist in the dataset.\n"
     ]
    }
   ],
   "source": [
    "#3 Check if there are any biases in your dataset.\n",
    "# Check for biases in the distribution of the target variable\n",
    "target_variable = 'target_column'  # Replace with the actual target variable name\n",
    "if target_variable in df.columns:\n",
    "    bias_check = df[target_variable].value_counts(normalize=True)\n",
    "    print(f\"Bias in Target Variable ({target_variable}):\\n\", bias_check)\n",
    "else:\n",
    "    print(f\"The target variable '{target_variable}' does not exist in the dataset.\")\n"
   ]
  },
  {
   "cell_type": "code",
   "execution_count": 5,
   "id": "0a2c6d4a",
   "metadata": {},
   "outputs": [
    {
     "name": "stdout",
     "output_type": "stream",
     "text": [
      "Column Names:\n",
      " Index(['Id', 'v2a1', 'hacdor', 'rooms', 'hacapo', 'v14a', 'refrig', 'v18q',\n",
      "       'v18q1', 'r4h1',\n",
      "       ...\n",
      "       'age', 'SQBescolari', 'SQBage', 'SQBhogar_total', 'SQBedjefe',\n",
      "       'SQBhogar_nin', 'SQBovercrowding', 'SQBdependency', 'SQBmeaned',\n",
      "       'agesq'],\n",
      "      dtype='object', length=142)\n",
      "All members of the house have the same poverty level.\n"
     ]
    }
   ],
   "source": [
    "#4 Check whether all members of the house have the same poverty level.\n",
    "# Display all column names in the dataset\n",
    "print(\"Column Names:\\n\", df.columns)\n",
    "\n",
    "# Assuming 'Id' is the column representing the unique identifier for each household\n",
    "# Replace 'your_actual_poverty_level_column' with the actual column name representing the poverty level\n",
    "poverty_level_column = 'Id'\n",
    "\n",
    "# Check if the poverty level column exists in the dataset\n",
    "if poverty_level_column in df.columns:\n",
    "    household_poverty_variation = df.groupby('Id')[poverty_level_column].nunique()\n",
    "\n",
    "    # Display households with varying poverty levels\n",
    "    varying_poverty_levels = household_poverty_variation[household_poverty_variation > 1]\n",
    "\n",
    "    if varying_poverty_levels.empty:\n",
    "        print(\"All members of the house have the same poverty level.\")\n",
    "    else:\n",
    "        print(\"Some households have members with different poverty levels:\")\n",
    "        print(varying_poverty_levels)\n",
    "else:\n",
    "    print(f\"The poverty level column '{poverty_level_column}' does not exist in the dataset.\")\n"
   ]
  },
  {
   "cell_type": "code",
   "execution_count": 6,
   "id": "4bbbc563",
   "metadata": {},
   "outputs": [
    {
     "name": "stdout",
     "output_type": "stream",
     "text": [
      "Houses without a family head:\n",
      "2        ID_e5442cf6a\n",
      "3        ID_a8db26a79\n",
      "4        ID_a62966799\n",
      "6        ID_3c5f4bd51\n",
      "8        ID_472fa82da\n",
      "             ...     \n",
      "23836    ID_265b917e8\n",
      "23841    ID_19c0b1480\n",
      "23843    ID_aa256c594\n",
      "23847    ID_4b7feead3\n",
      "23852    ID_1a7c6953b\n",
      "Name: Id, Length: 7334, dtype: object\n"
     ]
    }
   ],
   "source": [
    "#5 Check if there is a house without a family head.\n",
    "if 'parentesco1' in df.columns:\n",
    "    houses_without_family_head = df[df['parentesco1'] == 1]['Id']\n",
    "\n",
    "    if houses_without_family_head.empty:\n",
    "        print(\"All houses have a family head.\")\n",
    "    else:\n",
    "        print(\"Houses without a family head:\")\n",
    "        print(houses_without_family_head)\n",
    "else:\n",
    "    print(\"The column 'parentesco1' does not exist in the dataset.\")"
   ]
  },
  {
   "cell_type": "code",
   "execution_count": 7,
   "id": "cba7180d",
   "metadata": {},
   "outputs": [
    {
     "name": "stdout",
     "output_type": "stream",
     "text": [
      "Poverty levels updated successfully.\n"
     ]
    }
   ],
   "source": [
    "#6 Set the poverty level of the members and the head of the house same in a family.\n",
    "if 'parentesco1' in df.columns and 'v2a1' in df.columns:\n",
    "    # Create a dictionary mapping household IDs to the poverty level of the head\n",
    "    head_poverty_mapping = df[df['parentesco1'] == 1][['Id', 'v2a1']].set_index('Id')['v2a1'].to_dict()\n",
    "\n",
    "    # Update the poverty level of the members based on the head's poverty level\n",
    "    df['v2a1'] = df['Id'].map(head_poverty_mapping)\n",
    "\n",
    "    print(\"Poverty levels updated successfully.\")\n",
    "else:\n",
    "    print(\"One or more required columns do not exist in the dataset.\")"
   ]
  },
  {
   "cell_type": "code",
   "execution_count": 8,
   "id": "79e0deec",
   "metadata": {},
   "outputs": [
    {
     "data": {
      "text/plain": [
       "Index(['Id', 'v2a1', 'hacdor', 'rooms', 'hacapo', 'v14a', 'refrig', 'v18q',\n",
       "       'v18q1', 'r4h1',\n",
       "       ...\n",
       "       'age', 'SQBescolari', 'SQBage', 'SQBhogar_total', 'SQBedjefe',\n",
       "       'SQBhogar_nin', 'SQBovercrowding', 'SQBdependency', 'SQBmeaned',\n",
       "       'agesq'],\n",
       "      dtype='object', length=142)"
      ]
     },
     "execution_count": 8,
     "metadata": {},
     "output_type": "execute_result"
    }
   ],
   "source": [
    "df.columns"
   ]
  },
  {
   "cell_type": "code",
   "execution_count": 9,
   "id": "fec0a6c9",
   "metadata": {},
   "outputs": [
    {
     "data": {
      "text/plain": [
       "Id                     0\n",
       "v2a1               21922\n",
       "hacdor                 0\n",
       "rooms                  0\n",
       "hacapo                 0\n",
       "                   ...  \n",
       "SQBhogar_nin           0\n",
       "SQBovercrowding        0\n",
       "SQBdependency          0\n",
       "SQBmeaned             31\n",
       "agesq                  0\n",
       "Length: 142, dtype: int64"
      ]
     },
     "execution_count": 9,
     "metadata": {},
     "output_type": "execute_result"
    }
   ],
   "source": [
    "#7 Count how many null values are existing in columns.\n",
    "null_values_count = df.isnull().sum()\n",
    "null_values_count"
   ]
  },
  {
   "cell_type": "code",
   "execution_count": 10,
   "id": "9838426e",
   "metadata": {},
   "outputs": [
    {
     "name": "stdout",
     "output_type": "stream",
     "text": [
      "Null value rows in the target variable removed successfully.\n"
     ]
    }
   ],
   "source": [
    "#8 Remove null value rows of the target variable.\n",
    "# Check if the target variable 'poverty_level' exists in the dataset\n",
    "if 'v2a1' in df.columns:\n",
    "    # Remove rows with null values in the target variable\n",
    "    df = df.dropna(subset=['v2a1'])\n",
    "\n",
    "    print(\"Null value rows in the target variable removed successfully.\")\n",
    "else:\n",
    "    print(\"The target variable 'poverty_level' does not exist in the dataset.\")"
   ]
  },
  {
   "cell_type": "code",
   "execution_count": 12,
   "id": "aa88d21a",
   "metadata": {},
   "outputs": [
    {
     "name": "stderr",
     "output_type": "stream",
     "text": [
      "/Users/yashaswipatki/anaconda3/lib/python3.11/site-packages/sklearn/impute/_base.py:555: UserWarning: Skipping features without any observed values: ['rez_esc']. At least one non-missing value is needed for imputation with strategy='mean'.\n",
      "  warnings.warn(\n"
     ]
    },
    {
     "name": "stdout",
     "output_type": "stream",
     "text": [
      "Accuracy using Random Forest Classifier: 0.12919896640826872\n"
     ]
    }
   ],
   "source": [
    "#9 Predict the accuracy using random forest classifier.\n",
    "from sklearn.impute import SimpleImputer\n",
    "\n",
    "# Check if the target variable 'poverty_level' exists in the dataset\n",
    "if 'v2a1' in df.columns:\n",
    "    # Assuming 'poverty_level' is the target variable and other columns are features\n",
    "    X = df.dropna(subset=['v2a1'])\n",
    "    y = df['v2a1']\n",
    "\n",
    "    # Simple one-hot encoding for categorical columns\n",
    "    X_encoded = pd.get_dummies(X, drop_first=True)\n",
    "\n",
    "    # Impute missing values\n",
    "    imputer = SimpleImputer(strategy='mean')  # You can use other strategies like 'median' or 'most_frequent'\n",
    "    X_imputed = imputer.fit_transform(X_encoded)\n",
    "\n",
    "    # Split the data into training and testing sets\n",
    "    X_train, X_test, y_train, y_test = train_test_split(X_imputed, y, test_size=0.2, random_state=42)\n",
    "\n",
    "    # Create a Random Forest Classifier\n",
    "    rf_classifier = RandomForestClassifier()\n",
    "\n",
    "    # Fit the model on the training data\n",
    "    rf_classifier.fit(X_train, y_train)\n",
    "\n",
    "    # Predict the target variable on the testing data\n",
    "    predictions = rf_classifier.predict(X_test)\n",
    "\n",
    "    # Calculate accuracy\n",
    "    accuracy = accuracy_score(y_test, predictions)\n",
    "\n",
    "    print(\"Accuracy using Random Forest Classifier:\", accuracy)\n",
    "else:\n",
    "    print(\"The target variable 'v2a1' does not exist in the dataset.\")\n"
   ]
  },
  {
   "cell_type": "code",
   "execution_count": 14,
   "id": "eb6ad1fa",
   "metadata": {},
   "outputs": [
    {
     "name": "stderr",
     "output_type": "stream",
     "text": [
      "/Users/yashaswipatki/anaconda3/lib/python3.11/site-packages/sklearn/impute/_base.py:555: UserWarning: Skipping features without any observed values: ['rez_esc']. At least one non-missing value is needed for imputation with strategy='mean'.\n",
      "  warnings.warn(\n",
      "/Users/yashaswipatki/anaconda3/lib/python3.11/site-packages/sklearn/model_selection/_split.py:725: UserWarning: The least populated class in y has only 1 members, which is less than n_splits=5.\n",
      "  warnings.warn(\n"
     ]
    },
    {
     "name": "stdout",
     "output_type": "stream",
     "text": [
      "Cross-validation scores: [0.15245478 0.16795866 0.13953488 0.12403101 0.12694301]\n",
      "Mean Accuracy using Random Forest Classifier with Cross-Validation: 0.14218446666934437\n"
     ]
    }
   ],
   "source": [
    "#10 Check the accuracy using a random forest with cross-validation.\n",
    "\n",
    "from sklearn.model_selection import cross_val_score\n",
    "\n",
    "\n",
    "# Check if the target variable 'poverty_level' exists in the dataset\n",
    "if 'v2a1' in df.columns:\n",
    "    # Assuming 'poverty_level' is the target variable and other columns are features\n",
    "    X = df.dropna(subset=['v2a1'])\n",
    "    y = df['v2a1']\n",
    "\n",
    "    # Simple one-hot encoding for categorical columns\n",
    "    X_encoded = pd.get_dummies(X, drop_first=True)\n",
    "\n",
    "    # Impute missing values\n",
    "    imputer = SimpleImputer(strategy='mean')  # You can use other strategies like 'median' or 'most_frequent'\n",
    "    X_imputed = imputer.fit_transform(X_encoded)\n",
    "\n",
    "    # Create a Random Forest Classifier\n",
    "    rf_classifier = RandomForestClassifier()\n",
    "\n",
    "    # Use cross_val_score for cross-validation\n",
    "    cross_val_scores = cross_val_score(rf_classifier, X_imputed, y, cv=5)  # Adjust cv as needed\n",
    "\n",
    "    # Print cross-validation scores\n",
    "    print(\"Cross-validation scores:\", cross_val_scores)\n",
    "\n",
    "    # Calculate and print mean accuracy\n",
    "    mean_accuracy = cross_val_scores.mean()\n",
    "    print(\"Mean Accuracy using Random Forest Classifier with Cross-Validation:\", mean_accuracy)\n",
    "else:\n",
    "    print(\"The target variable 'v2a1' does not exist in the dataset.\")\n"
   ]
  },
  {
   "cell_type": "code",
   "execution_count": null,
   "id": "744990db",
   "metadata": {},
   "outputs": [],
   "source": []
  }
 ],
 "metadata": {
  "kernelspec": {
   "display_name": "Python 3 (ipykernel)",
   "language": "python",
   "name": "python3"
  },
  "language_info": {
   "codemirror_mode": {
    "name": "ipython",
    "version": 3
   },
   "file_extension": ".py",
   "mimetype": "text/x-python",
   "name": "python",
   "nbconvert_exporter": "python",
   "pygments_lexer": "ipython3",
   "version": "3.11.4"
  }
 },
 "nbformat": 4,
 "nbformat_minor": 5
}
